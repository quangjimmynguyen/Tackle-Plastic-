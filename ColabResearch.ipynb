{
  "nbformat": 4,
  "nbformat_minor": 0,
  "metadata": {
    "colab": {
      "name": "ColabResearch.ipynb",
      "provenance": [],
      "collapsed_sections": []
    },
    "kernelspec": {
      "name": "python3",
      "display_name": "Python 3"
    },
    "accelerator": "GPU"
  },
  "cells": [
    {
      "cell_type": "code",
      "metadata": {
        "colab": {
          "base_uri": "https://localhost:8080/"
        },
        "id": "HSB6RiaEtDFs",
        "outputId": "097ee405-b083-4547-e32a-31f22a274b62"
      },
      "source": [
        "!nvcc --version\r\n"
      ],
      "execution_count": 4,
      "outputs": [
        {
          "output_type": "stream",
          "text": [
            "nvcc: NVIDIA (R) Cuda compiler driver\n",
            "Copyright (c) 2005-2019 NVIDIA Corporation\n",
            "Built on Sun_Jul_28_19:07:16_PDT_2019\n",
            "Cuda compilation tools, release 10.1, V10.1.243\n"
          ],
          "name": "stdout"
        }
      ]
    },
    {
      "cell_type": "code",
      "metadata": {
        "id": "TbEwo_8Ct6Ta"
      },
      "source": [
        "from google.colab import drive"
      ],
      "execution_count": 5,
      "outputs": []
    },
    {
      "cell_type": "code",
      "metadata": {
        "colab": {
          "base_uri": "https://localhost:8080/"
        },
        "id": "6T_IyvnzuAxK",
        "outputId": "d8a074c6-b295-4b2d-c826-c26584609531"
      },
      "source": [
        "drive.mount('/content/gdrive')"
      ],
      "execution_count": 6,
      "outputs": [
        {
          "output_type": "stream",
          "text": [
            "Mounted at /content/gdrive\n"
          ],
          "name": "stdout"
        }
      ]
    },
    {
      "cell_type": "code",
      "metadata": {
        "id": "-7xX9kXzuVeK"
      },
      "source": [
        "import os"
      ],
      "execution_count": 7,
      "outputs": []
    },
    {
      "cell_type": "code",
      "metadata": {
        "id": "W7Fik0wGuYUb"
      },
      "source": [
        "path = \"/content/gdrive/My Drive\""
      ],
      "execution_count": 8,
      "outputs": []
    },
    {
      "cell_type": "code",
      "metadata": {
        "id": "TOeeblGuuZuF"
      },
      "source": [
        "os.chdir(path)"
      ],
      "execution_count": 9,
      "outputs": []
    },
    {
      "cell_type": "code",
      "metadata": {
        "id": "X3xj_0b0uclr"
      },
      "source": [
        "!git clone https://github.com/phamdinhkhanh/darknetGoogleColab.git"
      ],
      "execution_count": null,
      "outputs": []
    },
    {
      "cell_type": "code",
      "metadata": {
        "colab": {
          "base_uri": "https://localhost:8080/"
        },
        "id": "95Zd2obtu2rC",
        "outputId": "74d3bc4e-04ae-45ae-ceb9-50507d614341"
      },
      "source": [
        "%cd darknetGoogleColab"
      ],
      "execution_count": 11,
      "outputs": [
        {
          "output_type": "stream",
          "text": [
            "/content/gdrive/My Drive/darknetGoogleColab\n"
          ],
          "name": "stdout"
        }
      ]
    },
    {
      "cell_type": "code",
      "metadata": {
        "colab": {
          "base_uri": "https://localhost:8080/"
        },
        "id": "jzCw2Gdeu6J7",
        "outputId": "a5e7cc5f-b079-4d67-d2a1-fd23bdf22b7b"
      },
      "source": [
        "!ls"
      ],
      "execution_count": 12,
      "outputs": [
        {
          "output_type": "stream",
          "text": [
            "3rdparty\t\t  json_mjpeg_streams.sh\n",
            "appveyor.yml\t\t  LICENSE\n",
            "backup\t\t\t  Makefile\n",
            "build\t\t\t  net_cam_v3.sh\n",
            "build.ps1\t\t  obj\n",
            "build.sh\t\t  obj.data\n",
            "cfg\t\t\t  object_detection_yolo.py\n",
            "cmake\t\t\t  obj.names\n",
            "CMakeLists.txt\t\t  plotTrainLoss.py\n",
            "CMakeSettings.json\t  rac.zip\n",
            "darknet\t\t\t  README.md\n",
            "darknet53.conv.74\t  scripts\n",
            "DarknetConfig.cmake.in\t  src\n",
            "darknetGoogleColab.ipynb  traindata\n",
            "darknet.py\t\t  train.txt\n",
            "darknet_video.py\t  _travis.yml\n",
            "data\t\t\t  valid.txt\n",
            "_gitignore\t\t  video_v2.sh\n",
            "image_yolov2.sh\t\t  video_yolov3.sh\n",
            "image_yolov3.sh\t\t  yolov3-5c-5000-max-steps.cfg\n",
            "include\t\t\t  yolov3-5c.log\n"
          ],
          "name": "stdout"
        }
      ]
    },
    {
      "cell_type": "code",
      "metadata": {
        "id": "Ec5zjdYTu7cb"
      },
      "source": [
        "!chmod +x ./darknet"
      ],
      "execution_count": 13,
      "outputs": []
    },
    {
      "cell_type": "code",
      "metadata": {
        "colab": {
          "base_uri": "https://localhost:8080/"
        },
        "id": "KB1-mkitv4DF",
        "outputId": "4e0c1cd9-d9a4-42f0-eb95-708ed5d4534b"
      },
      "source": [
        "!git clone https://github.com/phamdinhkhanh/VinIDProductObjectDetection.git traindata\r\n"
      ],
      "execution_count": 14,
      "outputs": [
        {
          "output_type": "stream",
          "text": [
            "fatal: destination path 'traindata' already exists and is not an empty directory.\n"
          ],
          "name": "stdout"
        }
      ]
    },
    {
      "cell_type": "code",
      "metadata": {
        "id": "82gzjyHpwXON"
      },
      "source": [
        "import glob2\r\n",
        "import numpy as np\r\n",
        "\r\n",
        "all_files = []\r\n",
        "for ext in [\"*.png\", \"*.jpeg\", \"*.jpg\"]:\r\n",
        "  images = glob2.glob(os.path.join(\"traindata/img/\", ext))\r\n",
        "  all_files += images\r\n",
        "\r\n",
        "rand_idx = np.random.randint(0, len(all_files), 20)\r\n",
        "\r\n",
        "# Create train.txt\r\n",
        "with open(\"train.txt\", \"w\") as f:\r\n",
        "  for idx in np.arange(len(all_files)):\r\n",
        "    # if idx not in rand_idx:\r\n",
        "    f.write(all_files[idx]+'\\n')\r\n",
        "\r\n",
        "# Create valid.txt\r\n",
        "with open(\"valid.txt\", \"w\") as f:\r\n",
        "  for idx in np.arange(len(all_files)):\r\n",
        "    if idx in rand_idx:\r\n",
        "      f.write(all_files[idx]+'\\n')"
      ],
      "execution_count": 15,
      "outputs": []
    },
    {
      "cell_type": "code",
      "metadata": {
        "id": "vjoVN3Zywlk2"
      },
      "source": [
        "# Create obj.names config file\r\n",
        "!echo bia > obj.names\r\n",
        "!echo cafe >> obj.names\r\n",
        "!echo mytom >> obj.names\r\n",
        "!echo nuoctuong >> obj.names\r\n",
        "!echo sua >> obj.names"
      ],
      "execution_count": 16,
      "outputs": []
    },
    {
      "cell_type": "code",
      "metadata": {
        "id": "KKHk2cRuw1yB"
      },
      "source": [
        "# Config obj.data config file\r\n",
        "!echo classes=5 > obj.data\r\n",
        "!echo train=train.txt >> obj.data\r\n",
        "!echo valid=test.txt >> obj.data\r\n",
        "!echo names=obj.names >> obj.data\r\n",
        "!echo backup=backup >> obj.data"
      ],
      "execution_count": 17,
      "outputs": []
    },
    {
      "cell_type": "code",
      "metadata": {
        "id": "_bahrnzMw8hu"
      },
      "source": [
        "os.path.exists(\"obj.data\")\r\n",
        "os.path.exists(\"yolov3-5c-5000-max-steps.cfg\")"
      ],
      "execution_count": null,
      "outputs": []
    },
    {
      "cell_type": "code",
      "metadata": {
        "id": "j9sEO8u0xB5E"
      },
      "source": [
        "#download files\r\n",
        "def imShow(path):\r\n",
        "  import cv2\r\n",
        "  import matplotlib.pyplot as plt\r\n",
        "  %matplotlib inline\r\n",
        "\r\n",
        "  image = cv2.imread(path)\r\n",
        "  height, width = image.shape[:2]\r\n",
        "  resized_image = cv2.resize(image,(3*width, 3*height), interpolation = cv2.INTER_CUBIC)\r\n",
        "\r\n",
        "  fig = plt.gcf()\r\n",
        "  fig.set_size_inches(18, 10)\r\n",
        "  plt.axis(\"off\")\r\n",
        "  #plt.rcParams['figure.figsize'] = [10, 5]\r\n",
        "  plt.imshow(cv2.cvtColor(resized_image, cv2.COLOR_BGR2RGB))\r\n",
        "  plt.show()\r\n",
        "  \r\n",
        "  \r\n",
        "def upload():\r\n",
        "  from google.colab import files\r\n",
        "  uploaded = files.upload() \r\n",
        "  for name, data in uploaded.items():\r\n",
        "    with open(name, 'wb') as f:\r\n",
        "      f.write(data)\r\n",
        "      print ('saved file', name)\r\n",
        "      \r\n",
        "def download(path):\r\n",
        "  from google.colab import files\r\n",
        "  files.download(path)"
      ],
      "execution_count": 18,
      "outputs": []
    },
    {
      "cell_type": "code",
      "metadata": {
        "colab": {
          "base_uri": "https://localhost:8080/"
        },
        "id": "CVcFRNiDxIZq",
        "outputId": "da807b4e-3cc3-40d5-e3e6-fa509770730c"
      },
      "source": [
        "!wget https://pjreddie.com/media/files/darknet53.conv.74"
      ],
      "execution_count": 19,
      "outputs": [
        {
          "output_type": "stream",
          "text": [
            "--2020-12-11 02:04:19--  https://pjreddie.com/media/files/darknet53.conv.74\n",
            "Resolving pjreddie.com (pjreddie.com)... 128.208.4.108\n",
            "Connecting to pjreddie.com (pjreddie.com)|128.208.4.108|:443... connected.\n",
            "HTTP request sent, awaiting response... 200 OK\n",
            "Length: 162482580 (155M) [application/octet-stream]\n",
            "Saving to: ‘darknet53.conv.74.1’\n",
            "\n",
            "darknet53.conv.74.1 100%[===================>] 154.96M  3.37MB/s    in 56s     \n",
            "\n",
            "2020-12-11 02:05:15 (2.78 MB/s) - ‘darknet53.conv.74.1’ saved [162482580/162482580]\n",
            "\n"
          ],
          "name": "stdout"
        }
      ]
    },
    {
      "cell_type": "code",
      "metadata": {
        "id": "jKmP_zQfywYn",
        "colab": {
          "base_uri": "https://localhost:8080/"
        },
        "outputId": "7c7a567c-eb44-4262-ac7b-bf11acea9612"
      },
      "source": [
        "!mkdir backup"
      ],
      "execution_count": 20,
      "outputs": [
        {
          "output_type": "stream",
          "text": [
            "mkdir: cannot create directory ‘backup’: File exists\n"
          ],
          "name": "stdout"
        }
      ]
    },
    {
      "cell_type": "code",
      "metadata": {
        "id": "gjNXBsR1y0I6",
        "colab": {
          "base_uri": "https://localhost:8080/"
        },
        "outputId": "0180ab81-da36-4efd-ad7b-31de1186d27c"
      },
      "source": [
        "!./darknet detector train obj.data yolov3-5c-5000-max-steps.cfg darknet53.conv.74 -dont_show > yolov3-5c.log"
      ],
      "execution_count": null,
      "outputs": [
        {
          "output_type": "stream",
          "text": [
            "layer     filters    size              input                output\n",
            "   0 conv     32  3 x 3 / 1   608 x 608 x   3   ->   608 x 608 x  32 0.639 BF\n",
            "   1 conv     64  3 x 3 / 2   608 x 608 x  32   ->   304 x 304 x  64 3.407 BF\n",
            "   2 conv     32  1 x 1 / 1   304 x 304 x  64   ->   304 x 304 x  32 0.379 BF\n",
            "   3 conv     64  3 x 3 / 1   304 x 304 x  32   ->   304 x 304 x  64 3.407 BF\n",
            "   4 Shortcut Layer: 1\n",
            "   5 conv    128  3 x 3 / 2   304 x 304 x  64   ->   152 x 152 x 128 3.407 BF\n",
            "   6 conv     64  1 x 1 / 1   152 x 152 x 128   ->   152 x 152 x  64 0.379 BF\n",
            "   7 conv    128  3 x 3 / 1   152 x 152 x  64   ->   152 x 152 x 128 3.407 BF\n",
            "   8 Shortcut Layer: 5\n",
            "   9 conv     64  1 x 1 / 1   152 x 152 x 128   ->   152 x 152 x  64 0.379 BF\n",
            "  10 conv    128  3 x 3 / 1   152 x 152 x  64   ->   152 x 152 x 128 3.407 BF\n",
            "  11 Shortcut Layer: 8\n",
            "  12 conv    256  3 x 3 / 2   152 x 152 x 128   ->    76 x  76 x 256 3.407 BF\n",
            "  13 conv    128  1 x 1 / 1    76 x  76 x 256   ->    76 x  76 x 128 0.379 BF\n",
            "  14 conv    256  3 x 3 / 1    76 x  76 x 128   ->    76 x  76 x 256 3.407 BF\n",
            "  15 Shortcut Layer: 12\n",
            "  16 conv    128  1 x 1 / 1    76 x  76 x 256   ->    76 x  76 x 128 0.379 BF\n",
            "  17 conv    256  3 x 3 / 1    76 x  76 x 128   ->    76 x  76 x 256 3.407 BF\n",
            "  18 Shortcut Layer: 15\n",
            "  19 conv    128  1 x 1 / 1    76 x  76 x 256   ->    76 x  76 x 128 0.379 BF\n",
            "  20 conv    256  3 x 3 / 1    76 x  76 x 128   ->    76 x  76 x 256 3.407 BF\n",
            "  21 Shortcut Layer: 18\n",
            "  22 conv    128  1 x 1 / 1    76 x  76 x 256   ->    76 x  76 x 128 0.379 BF\n",
            "  23 conv    256  3 x 3 / 1    76 x  76 x 128   ->    76 x  76 x 256 3.407 BF\n",
            "  24 Shortcut Layer: 21\n",
            "  25 conv    128  1 x 1 / 1    76 x  76 x 256   ->    76 x  76 x 128 0.379 BF\n",
            "  26 conv    256  3 x 3 / 1    76 x  76 x 128   ->    76 x  76 x 256 3.407 BF\n",
            "  27 Shortcut Layer: 24\n",
            "  28 conv    128  1 x 1 / 1    76 x  76 x 256   ->    76 x  76 x 128 0.379 BF\n",
            "  29 conv    256  3 x 3 / 1    76 x  76 x 128   ->    76 x  76 x 256 3.407 BF\n",
            "  30 Shortcut Layer: 27\n",
            "  31 conv    128  1 x 1 / 1    76 x  76 x 256   ->    76 x  76 x 128 0.379 BF\n",
            "  32 conv    256  3 x 3 / 1    76 x  76 x 128   ->    76 x  76 x 256 3.407 BF\n",
            "  33 Shortcut Layer: 30\n",
            "  34 conv    128  1 x 1 / 1    76 x  76 x 256   ->    76 x  76 x 128 0.379 BF\n",
            "  35 conv    256  3 x 3 / 1    76 x  76 x 128   ->    76 x  76 x 256 3.407 BF\n",
            "  36 Shortcut Layer: 33\n",
            "  37 conv    512  3 x 3 / 2    76 x  76 x 256   ->    38 x  38 x 512 3.407 BF\n",
            "  38 conv    256  1 x 1 / 1    38 x  38 x 512   ->    38 x  38 x 256 0.379 BF\n",
            "  39 conv    512  3 x 3 / 1    38 x  38 x 256   ->    38 x  38 x 512 3.407 BF\n",
            "  40 Shortcut Layer: 37\n",
            "  41 conv    256  1 x 1 / 1    38 x  38 x 512   ->    38 x  38 x 256 0.379 BF\n",
            "  42 conv    512  3 x 3 / 1    38 x  38 x 256   ->    38 x  38 x 512 3.407 BF\n",
            "  43 Shortcut Layer: 40\n",
            "  44 conv    256  1 x 1 / 1    38 x  38 x 512   ->    38 x  38 x 256 0.379 BF\n",
            "  45 conv    512  3 x 3 / 1    38 x  38 x 256   ->    38 x  38 x 512 3.407 BF\n",
            "  46 Shortcut Layer: 43\n",
            "  47 conv    256  1 x 1 / 1    38 x  38 x 512   ->    38 x  38 x 256 0.379 BF\n",
            "  48 conv    512  3 x 3 / 1    38 x  38 x 256   ->    38 x  38 x 512 3.407 BF\n",
            "  49 Shortcut Layer: 46\n",
            "  50 conv    256  1 x 1 / 1    38 x  38 x 512   ->    38 x  38 x 256 0.379 BF\n",
            "  51 conv    512  3 x 3 / 1    38 x  38 x 256   ->    38 x  38 x 512 3.407 BF\n",
            "  52 Shortcut Layer: 49\n",
            "  53 conv    256  1 x 1 / 1    38 x  38 x 512   ->    38 x  38 x 256 0.379 BF\n",
            "  54 conv    512  3 x 3 / 1    38 x  38 x 256   ->    38 x  38 x 512 3.407 BF\n",
            "  55 Shortcut Layer: 52\n",
            "  56 conv    256  1 x 1 / 1    38 x  38 x 512   ->    38 x  38 x 256 0.379 BF\n",
            "  57 conv    512  3 x 3 / 1    38 x  38 x 256   ->    38 x  38 x 512 3.407 BF\n",
            "  58 Shortcut Layer: 55\n",
            "  59 conv    256  1 x 1 / 1    38 x  38 x 512   ->    38 x  38 x 256 0.379 BF\n",
            "  60 conv    512  3 x 3 / 1    38 x  38 x 256   ->    38 x  38 x 512 3.407 BF\n",
            "  61 Shortcut Layer: 58\n",
            "  62 conv   1024  3 x 3 / 2    38 x  38 x 512   ->    19 x  19 x1024 3.407 BF\n",
            "  63 conv    512  1 x 1 / 1    19 x  19 x1024   ->    19 x  19 x 512 0.379 BF\n",
            "  64 conv   1024  3 x 3 / 1    19 x  19 x 512   ->    19 x  19 x1024 3.407 BF\n",
            "  65 Shortcut Layer: 62\n",
            "  66 conv    512  1 x 1 / 1    19 x  19 x1024   ->    19 x  19 x 512 0.379 BF\n",
            "  67 conv   1024  3 x 3 / 1    19 x  19 x 512   ->    19 x  19 x1024 3.407 BF\n",
            "  68 Shortcut Layer: 65\n",
            "  69 conv    512  1 x 1 / 1    19 x  19 x1024   ->    19 x  19 x 512 0.379 BF\n",
            "  70 conv   1024  3 x 3 / 1    19 x  19 x 512   ->    19 x  19 x1024 3.407 BF\n",
            "  71 Shortcut Layer: 68\n",
            "  72 conv    512  1 x 1 / 1    19 x  19 x1024   ->    19 x  19 x 512 0.379 BF\n",
            "  73 conv   1024  3 x 3 / 1    19 x  19 x 512   ->    19 x  19 x1024 3.407 BF\n",
            "  74 Shortcut Layer: 71\n",
            "  75 conv    512  1 x 1 / 1    19 x  19 x1024   ->    19 x  19 x 512 0.379 BF\n",
            "  76 conv   1024  3 x 3 / 1    19 x  19 x 512   ->    19 x  19 x1024 3.407 BF\n",
            "  77 conv    512  1 x 1 / 1    19 x  19 x1024   ->    19 x  19 x 512 0.379 BF\n",
            "  78 conv   1024  3 x 3 / 1    19 x  19 x 512   ->    19 x  19 x1024 3.407 BF\n",
            "  79 conv    512  1 x 1 / 1    19 x  19 x1024   ->    19 x  19 x 512 0.379 BF\n",
            "  80 conv   1024  3 x 3 / 1    19 x  19 x 512   ->    19 x  19 x1024 3.407 BF\n",
            "  81 conv     30  1 x 1 / 1    19 x  19 x1024   ->    19 x  19 x  30 0.022 BF\n",
            "  82 yolo\n",
            "  83 route  79\n",
            "  84 conv    256  1 x 1 / 1    19 x  19 x 512   ->    19 x  19 x 256 0.095 BF\n",
            "  85 upsample            2x    19 x  19 x 256   ->    38 x  38 x 256\n",
            "  86 route  85 61\n",
            "  87 conv    256  1 x 1 / 1    38 x  38 x 768   ->    38 x  38 x 256 0.568 BF\n",
            "  88 conv    512  3 x 3 / 1    38 x  38 x 256   ->    38 x  38 x 512 3.407 BF\n",
            "  89 conv    256  1 x 1 / 1    38 x  38 x 512   ->    38 x  38 x 256 0.379 BF\n",
            "  90 conv    512  3 x 3 / 1    38 x  38 x 256   ->    38 x  38 x 512 3.407 BF\n",
            "  91 conv    256  1 x 1 / 1    38 x  38 x 512   ->    38 x  38 x 256 0.379 BF\n",
            "  92 conv    512  3 x 3 / 1    38 x  38 x 256   ->    38 x  38 x 512 3.407 BF\n",
            "  93 conv     30  1 x 1 / 1    38 x  38 x 512   ->    38 x  38 x  30 0.044 BF\n",
            "  94 yolo\n",
            "  95 route  91\n",
            "  96 conv    128  1 x 1 / 1    38 x  38 x 256   ->    38 x  38 x 128 0.095 BF\n",
            "  97 upsample            2x    38 x  38 x 128   ->    76 x  76 x 128\n",
            "  98 route  97 36\n",
            "  99 conv    128  1 x 1 / 1    76 x  76 x 384   ->    76 x  76 x 128 0.568 BF\n",
            " 100 conv    256  3 x 3 / 1    76 x  76 x 128   ->    76 x  76 x 256 3.407 BF\n",
            " 101 conv    128  1 x 1 / 1    76 x  76 x 256   ->    76 x  76 x 128 0.379 BF\n",
            " 102 conv    256  3 x 3 / 1    76 x  76 x 128   ->    76 x  76 x 256 3.407 BF\n",
            " 103 conv    128  1 x 1 / 1    76 x  76 x 256   ->    76 x  76 x 128 0.379 BF\n",
            " 104 conv    256  3 x 3 / 1    76 x  76 x 128   ->    76 x  76 x 256 3.407 BF\n",
            " 105 conv     30  1 x 1 / 1    76 x  76 x 256   ->    76 x  76 x  30 0.089 BF\n",
            " 106 yolo\n",
            "Total BFLOPS 139.527 \n",
            " Allocate additional workspace_size = 55.45 MB \n",
            "Loading weights from darknet53.conv.74...Done!\n"
          ],
          "name": "stdout"
        }
      ]
    },
    {
      "cell_type": "code",
      "metadata": {
        "id": "5J50TilE0FPF"
      },
      "source": [
        "!./darknet detector train obj.data yolov3-5c-5000-max-steps.cfg darknet53.conv.74 -dont_show"
      ],
      "execution_count": null,
      "outputs": []
    },
    {
      "cell_type": "code",
      "metadata": {
        "id": "npP9mOUq0VBf"
      },
      "source": [
        "!python3 plotTrainLoss.py yolov3-5c.log\r\n",
        "imShow('training_loss_plot.png')"
      ],
      "execution_count": null,
      "outputs": []
    },
    {
      "cell_type": "code",
      "metadata": {
        "id": "eSmwvFyD0dMl"
      },
      "source": [
        "!ls backup"
      ],
      "execution_count": null,
      "outputs": []
    },
    {
      "cell_type": "code",
      "metadata": {
        "id": "1UmMMBa102Sd"
      },
      "source": [
        "!./darknet detector test obj.data yolov3-5c-5000-max-steps-test.cfg backup/yolov3-5c-5000-max-steps_last.weights traindata/test/nuoctuong3.jpg -dont_show\r\n",
        "\r\n",
        "imShow('predictions.jpg')"
      ],
      "execution_count": null,
      "outputs": []
    }
  ]
}